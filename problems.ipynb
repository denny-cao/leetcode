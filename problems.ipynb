{
 "cells": [
  {
   "attachments": {},
   "cell_type": "markdown",
   "metadata": {},
   "source": [
    "# 1492. The kth Factor of `n`"
   ]
  },
  {
   "attachments": {},
   "cell_type": "markdown",
   "metadata": {},
   "source": [
    "You are given two positive integers `n` and `k`. A factor of an integer `n` is defined as an integer `i` where `n % i == 0`.\n",
    "Consider a list of all factors of `n` sorted in ascending order, return the `k`th factor in this list or return `-1` if n has less than `k` factors.\n",
    "\n",
    "Example 1:\n",
    "```\n",
    "Input: n = 12, k = 3\n",
    "Output: 3\n",
    "Explanation: Factors list is [1, 2, 3, 4, 6, 12], the 3rd factor is 3.\n",
    "```\n",
    "Example 2:\n",
    "```\n",
    "Input: n = 7, k = 2\n",
    "Output: 7\n",
    "Explanation: Factors list is [1, 7], the 2nd factor is 7.\n",
    "```\n",
    "Example 3:\n",
    "```\n",
    "Input: n = 4, k = 4\n",
    "Output: -1\n",
    "Explanation: Factors list is [1, 2, 4], there is only 3 factors. We should return -1.\n",
    "```\n",
    "Constraints:\n",
    "`1 <= k <= n <= 1000`"
   ]
  },
  {
   "cell_type": "code",
   "execution_count": null,
   "metadata": {},
   "outputs": [],
   "source": [
    "class Solution:\n",
    "    def kthFactor(self, n: int, k: int) -> int:\n",
    "        factors = []\n",
    "        for i in range(1,n+1):\n",
    "            if n % i == 0:\n",
    "                factors.append(i)\n",
    "\n",
    "        if len(factors) < k:\n",
    "            return -1\n",
    "        else:\n",
    "            return factors[k-1]"
   ]
  },
  {
   "attachments": {},
   "cell_type": "markdown",
   "metadata": {},
   "source": [
    "## Notes\n",
    "- Factors list is actually not needed. Notice that we do not need them; we just need the ith factor. Keep a variable that is an iterator of the place instead -> Reduce space complexity\n",
    "\n",
    "`if c < k:`\n",
    "- This line is not necessary because it will always return a factor or -1, meaning if it doesn't return a factor, it will return -1\n"
   ]
  },
  {
   "attachments": {},
   "cell_type": "markdown",
   "metadata": {},
   "source": [
    "## New Solution"
   ]
  },
  {
   "cell_type": "code",
   "execution_count": null,
   "metadata": {},
   "outputs": [],
   "source": [
    "class Solution:\n",
    "    def kthFactor(self, n: int, k: int) -> int:\n",
    "        c = 0\n",
    "        for i in range(1,n+1):\n",
    "            if n % i == 0:\n",
    "                c += 1\n",
    "                if c == k:\n",
    "                    return i \n",
    "        return -1"
   ]
  },
  {
   "attachments": {},
   "cell_type": "markdown",
   "metadata": {},
   "source": [
    "# 2352. Equal Row and Column Pairs"
   ]
  },
  {
   "attachments": {},
   "cell_type": "markdown",
   "metadata": {},
   "source": [
    "Given a **0-indexed** `n x n` integer matrix grid, return the number of pairs $(r_i, c_j)$ such that row $r_i$ and column $c_j$ are equal.\n",
    "\n",
    "A row and column pair is considered equal if they contain the same elements in the same order (i.e., an equal array).\n",
    "\n",
    "Example 1: \n",
    "```\n",
    "Input: grid = [[3,2,1],[1,7,6],[2,7,7]]\n",
    "Output: 1\n",
    "Explanation: There is 1 equal row and column pair:\n",
    "- (Row 2, Column 1): [2,7,7]\n",
    "```\n",
    "\n",
    "Example 2:\n",
    "\n",
    "```\n",
    "Input: grid = [[3,1,2,2],[1,4,4,5],[2,4,2,2],[2,4,2,2]]\n",
    "Output: 3\n",
    "Explanation: There are 3 equal row and column pairs:\n",
    "- (Row 0, Column 0): [3,1,2,2]\n",
    "- (Row 2, Column 2): [2,4,2,2]\n",
    "- (Row 3, Column 2): [2,4,2,2]\n",
    "\n",
    "```\n",
    "Constraints:\n",
    "\n",
    "```\n",
    "n == grid.length == grid[i].length\n",
    "1 <= n <= 200\n",
    "1 <= grid[i][j] <= 105\n",
    "```"
   ]
  },
  {
   "cell_type": "code",
   "execution_count": 10,
   "metadata": {},
   "outputs": [],
   "source": [
    "from collections import Counter\n",
    "\n",
    "class Solution:\n",
    "    def equalPairs(self, grid: list[list[int]]) -> int:\n",
    "        row_elements = Counter()\n",
    "        column_elements = Counter()\n",
    "\n",
    "        # Iterate 2D array and add each row and column to the elements as an integer\n",
    "        pairs = 0\n",
    "\n",
    "        # Time Complexity: O(n^2)\n",
    "        for i in range(len(grid)):\n",
    "            row_elements[self.list_to_str(grid[i])] += 1\n",
    "            column = []\n",
    "\n",
    "            for j in range(len(grid)):\n",
    "                column.append(grid[j][i])\n",
    "            column_elements[self.list_to_str(column)] += 1\n",
    "    \n",
    "        # Time Complexity: O(n)\n",
    "        for elements in row_elements:\n",
    "            if elements in column_elements:\n",
    "                pairs += row_elements.get(elements) * column_elements.get(elements)\n",
    "        \n",
    "        print(row_elements)\n",
    "        print(column_elements)\n",
    "        return pairs\n",
    "\n",
    "    # Time Complexity: O(n)\n",
    "    def list_to_str(self, list):\n",
    "        return (\",\".join(map(str, list)))"
   ]
  },
  {
   "attachments": {},
   "cell_type": "markdown",
   "metadata": {},
   "source": [
    "## Notes\n",
    "- This is so overcomplicated. We can actually do this much quicker with list comprehension to grab the columns:\n",
    "```\n",
    "n = len(grid)\n",
    "for i in range(n):\n",
    "    for j in range(n):\n",
    "        [grid[k][j] for k in range(n)] # Column\n",
    "```\n",
    "- With this, we can check if the column is the same as the column straight up without needing a Counter element"
   ]
  },
  {
   "attachments": {},
   "cell_type": "markdown",
   "metadata": {},
   "source": [
    "## New Solution"
   ]
  },
  {
   "cell_type": "code",
   "execution_count": null,
   "metadata": {},
   "outputs": [],
   "source": [
    "class Solution:\n",
    "    def equalPairs(self, grid: list[list[int]]) -> int:\n",
    "        length = len(grid)\n",
    "        count = 0\n",
    "        for i in range(length):\n",
    "            for j in range(length):\n",
    "                if grid[i] == [grid[k][j] for k in range(length)]:\n",
    "                    count += 1\n",
    "        return count"
   ]
  }
 ],
 "metadata": {
  "kernelspec": {
   "display_name": "Python 3",
   "language": "python",
   "name": "python3"
  },
  "language_info": {
   "codemirror_mode": {
    "name": "ipython",
    "version": 3
   },
   "file_extension": ".py",
   "mimetype": "text/x-python",
   "name": "python",
   "nbconvert_exporter": "python",
   "pygments_lexer": "ipython3",
   "version": "3.10.6"
  },
  "orig_nbformat": 4
 },
 "nbformat": 4,
 "nbformat_minor": 2
}
